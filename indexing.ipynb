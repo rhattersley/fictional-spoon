{
 "metadata": {
  "name": "",
  "signature": "sha256:73e5b2746ed7c072f1f5d3cd5af51e14494e11b0be11ce069a361cc0b4730ee3"
 },
 "nbformat": 3,
 "nbformat_minor": 0,
 "worksheets": [
  {
   "cells": [
    {
     "cell_type": "code",
     "collapsed": false,
     "input": [
      "%matplotlib inline\n",
      "\n",
      "import numpy as np"
     ],
     "language": "python",
     "metadata": {},
     "outputs": [],
     "prompt_number": 2
    },
    {
     "cell_type": "code",
     "collapsed": false,
     "input": [
      "class Mesh(object):\n",
      "    def __init__(self, node_coordinates, face_node_connectivity):\n",
      "        self.node_coordinates = np.array(node_coordinates)\n",
      "        self.face_node_connectivity = np.array(face_node_connectivity)\n",
      "\n",
      "    def __getitem__(self, keys):        \n",
      "        if isinstance(keys, int):\n",
      "            keys = [keys]\n",
      "        keys = np.array(keys)\n",
      "        \n",
      "        # Restrict the face-node connectivity to the selected faces,\n",
      "        # but still indexing into the full set of nodes.\n",
      "        sub_face_node_connectivity = self.face_node_connectivity[[keys]]\n",
      "        \n",
      "        # Which nodes do we still need?\n",
      "        node_indices = np.unique(sub_face_node_connectivity)\n",
      "        \n",
      "        # Restrict the node coordinates to just the needed nodes.\n",
      "        sub_node_coordinates = self.node_coordinates[node_indices]\n",
      "\n",
      "        # Figure out the mapping from old node indices to new node indices.\n",
      "        node_map = np.zeros(len(self.node_coordinates), int)\n",
      "        node_map[node_indices] = np.arange(len(node_indices), dtype=int)\n",
      "\n",
      "        # Update the face-node connectivity to use the new node indices.\n",
      "        sub_face_node_connectivity = node_map[sub_face_node_connectivity]\n",
      "\n",
      "        return Mesh(node_coordinates=sub_node_coordinates,\n",
      "                    face_node_connectivity=sub_face_node_connectivity)\n",
      "    \n",
      "    def __repr__(self):\n",
      "        return ('Mesh(node_coordinates={!r},\\n'\n",
      "                '    face_node_connectivity={!r})'.format(self.node_coordinates,\n",
      "                                                          self.face_node_connectivity))\n",
      "\n",
      "mesh = Mesh(\n",
      "    node_coordinates=[[0, 0], [5, 0], [8, -2], [10, -4], [-1, 3], [6, 2.5], [9, 1], [11, -1]],\n",
      "    face_node_connectivity=[[0, 1, 5, 4], [1, 2, 6, 5], [2, 3, 7, 6]]\n",
      ")\n",
      "print mesh[1]\n",
      "print mesh[2]\n",
      "print mesh[[1, 2]]"
     ],
     "language": "python",
     "metadata": {},
     "outputs": [
      {
       "output_type": "stream",
       "stream": "stdout",
       "text": [
        "Mesh(node_coordinates=array([[ 5. ,  0. ],\n",
        "       [ 8. , -2. ],\n",
        "       [ 6. ,  2.5],\n",
        "       [ 9. ,  1. ]]),\n",
        "    face_node_connectivity=array([[0, 1, 3, 2]]))\n",
        "Mesh(node_coordinates=array([[  8.,  -2.],\n",
        "       [ 10.,  -4.],\n",
        "       [  9.,   1.],\n",
        "       [ 11.,  -1.]]),\n",
        "    face_node_connectivity=array([[0, 1, 3, 2]]))\n",
        "Mesh(node_coordinates=array([[  5. ,   0. ],\n",
        "       [  8. ,  -2. ],\n",
        "       [ 10. ,  -4. ],\n",
        "       [  6. ,   2.5],\n",
        "       [  9. ,   1. ],\n",
        "       [ 11. ,  -1. ]]),\n",
        "    face_node_connectivity=array([[0, 1, 4, 3],\n",
        "       [1, 2, 5, 4]]))\n"
       ]
      }
     ],
     "prompt_number": 47
    }
   ],
   "metadata": {}
  }
 ]
}